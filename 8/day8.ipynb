{
 "cells": [
  {
   "cell_type": "code",
   "execution_count": 30,
   "metadata": {},
   "outputs": [
    {
     "name": "stdout",
     "output_type": "stream",
     "text": [
      "Part 1: 521\n",
      "Part 2: 1016804\n"
     ]
    }
   ],
   "source": [
    "lines = [line.strip() for line in open(\"input.txt\", \"r\").readlines()]\n",
    "\n",
    "\n",
    "# Part 1\n",
    "print(\"Part 1:\", sum(sum(1 for word in line.split(\" | \")[\n",
    "      1].split() if len(word) in [2, 3, 4, 7]) for line in lines))\n",
    "\n",
    "\n",
    "# Part 2\n",
    "def interpret(line):\n",
    "    digits = line.split(\" | \")[0].split()\n",
    "\n",
    "    one = [d for d in digits if len(d) == 2].pop()\n",
    "    seven = [d for d in digits if len(d) == 3].pop()\n",
    "    four = [d for d in digits if len(d) == 4].pop()\n",
    "    eight = [d for d in digits if len(d) == 7].pop()\n",
    "\n",
    "    two_three_five = [d for d in digits if len(d) == 5]\n",
    "    three = [d for d in two_three_five if all(\n",
    "        s not in one for s in [c for c in eight if c not in d])].pop()\n",
    "    two = [d for d in two_three_five if sorted(\n",
    "        list({c for c in d + four})) == sorted(list(c for c in eight))].pop()\n",
    "    five = [d for d in two_three_five if d not in [two, three]].pop()\n",
    "\n",
    "    zero_six_nine = [d for d in digits if len(d) == 6]\n",
    "    nine = [d for d in zero_six_nine if [\n",
    "        s for s in eight if s not in d].pop() not in four].pop()\n",
    "    zero_six = [d for d in zero_six_nine if d != nine]\n",
    "    six = [d for d in zero_six_nine if [\n",
    "        s for s in eight if s not in d].pop() in one].pop()\n",
    "    zero = [d for d in zero_six if d != six].pop()\n",
    "\n",
    "    lookup = {\n",
    "        \"\".join(sorted(zero)): \"0\",\n",
    "        \"\".join(sorted(one)): \"1\",\n",
    "        \"\".join(sorted(two)): \"2\",\n",
    "        \"\".join(sorted(three)): \"3\",\n",
    "        \"\".join(sorted(four)): \"4\",\n",
    "        \"\".join(sorted(five)): \"5\",\n",
    "        \"\".join(sorted(six)): \"6\",\n",
    "        \"\".join(sorted(seven)): \"7\",\n",
    "        \"\".join(sorted(eight)): \"8\",\n",
    "        \"\".join(sorted(nine)): \"9\",\n",
    "    }\n",
    "\n",
    "    return int(\"\".join(lookup[\"\".join(sorted(d))] for d in line.split(\" | \")[1].split()))\n",
    "\n",
    "\n",
    "print(\"Part 2:\", sum(interpret(line) for line in lines))\n"
   ]
  }
 ],
 "metadata": {
  "interpreter": {
   "hash": "183df3eb1dc8f53a6c8add15b8da85d242d8467e8f69b6a7ff9d8aea23c251bc"
  },
  "kernelspec": {
   "display_name": "Python 3.10.0 64-bit",
   "language": "python",
   "name": "python3"
  },
  "language_info": {
   "codemirror_mode": {
    "name": "ipython",
    "version": 3
   },
   "file_extension": ".py",
   "mimetype": "text/x-python",
   "name": "python",
   "nbconvert_exporter": "python",
   "pygments_lexer": "ipython3",
   "version": "3.10.0"
  },
  "orig_nbformat": 4
 },
 "nbformat": 4,
 "nbformat_minor": 2
}
