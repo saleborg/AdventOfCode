{
 "cells": [
  {
   "cell_type": "code",
   "execution_count": 36,
   "metadata": {},
   "outputs": [
    {
     "name": "stdout",
     "output_type": "stream",
     "text": [
      "272611658\n",
      "272611658\n",
      "272611658\n",
      "272611658\n",
      "272611658\n",
      "272611658\n"
     ]
    }
   ],
   "source": [
    "f = open(\"input.txt\", \"r\")\n",
    "Lines = f.readlines();\n",
    "u = open(\"input.txt\", \"r\")\n",
    "i = 0;\n",
    "for x in Lines:\n",
    "    for y in Lines:\n",
    "        for z in Lines:\n",
    "            c = int(x)\n",
    "            d = int(y)\n",
    "            e = int(z)\n",
    "            b = c+d+e\n",
    "            if b == 2020:\n",
    "                print(c*d*e)\n",
    "                break\n",
    "            \n",
    "    \n",
    "\n",
    "\n"
   ]
  }
 ],
 "metadata": {
  "interpreter": {
   "hash": "183df3eb1dc8f53a6c8add15b8da85d242d8467e8f69b6a7ff9d8aea23c251bc"
  },
  "kernelspec": {
   "display_name": "Python 3.10.0 64-bit",
   "language": "python",
   "name": "python3"
  },
  "language_info": {
   "codemirror_mode": {
    "name": "ipython",
    "version": 3
   },
   "file_extension": ".py",
   "mimetype": "text/x-python",
   "name": "python",
   "nbconvert_exporter": "python",
   "pygments_lexer": "ipython3",
   "version": "3.10.0"
  },
  "orig_nbformat": 4
 },
 "nbformat": 4,
 "nbformat_minor": 2
}
